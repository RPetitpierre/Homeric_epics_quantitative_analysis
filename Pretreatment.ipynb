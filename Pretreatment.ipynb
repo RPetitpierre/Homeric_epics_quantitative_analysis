{
 "cells": [
  {
   "cell_type": "markdown",
   "metadata": {},
   "source": [
    "# Imports"
   ]
  },
  {
   "cell_type": "code",
   "execution_count": 122,
   "metadata": {},
   "outputs": [],
   "source": [
    "import re\n",
    "import unidecode\n",
    "import pandas as pd\n",
    "import numpy as np\n",
    "\n",
    "# Silence warnings\n",
    "import warnings\n",
    "warnings.filterwarnings(\"ignore\")\n",
    "pd.options.mode.chained_assignment = None"
   ]
  },
  {
   "cell_type": "markdown",
   "metadata": {},
   "source": [
    "# Load texts"
   ]
  },
  {
   "cell_type": "code",
   "execution_count": 123,
   "metadata": {},
   "outputs": [],
   "source": [
    "def merge_text(df):\n",
    "    \n",
    "    txt = \"\"\n",
    "    for ind, row in df.iteritems():\n",
    "        if (str(row) != 'nan'):\n",
    "            txt += ' ' + str(row)\n",
    "        \n",
    "    return txt"
   ]
  },
  {
   "cell_type": "code",
   "execution_count": 10,
   "metadata": {},
   "outputs": [],
   "source": [
    "df = pd.read_excel('data/iliad_homer.xlsx', encoding = 'utf-8')"
   ]
  },
  {
   "cell_type": "code",
   "execution_count": 20,
   "metadata": {},
   "outputs": [],
   "source": [
    "iliad_Homer = merge_text(df['Iliad – original'])\n",
    "iliad_KK = merge_text(df['Iliad – Kazantzakis-Kakridis'])\n",
    "iliad_RL = merge_text(df['Iliad – Lattimore'])"
   ]
  },
  {
   "cell_type": "code",
   "execution_count": 12,
   "metadata": {
    "scrolled": true
   },
   "outputs": [
    {
     "name": "stdout",
     "output_type": "stream",
     "text": [
      " Μῆνιν ἄειδε, θεά, Πηληιάδεω Ἀχιλῆος οὐλομένην, ἣ μυρί’ Ἀχαιοῖς ἄλγε’ ἔθηκε, πολλὰς δ’ ἰφθίμους ψυχὰς Ἄϊδι προΐαψεν ἡρώων, αὐτοὺς δὲ ἑλώρια τεῦχε κύνεσσιν οἰωνοῖσί τε πᾶσι· Διὸς δ’ ἐτελείετο βουλή· ἐξ οὗ δὴ τὰ πρῶτα διαστήτην ἐρίσαντε Ἀτρεΐδης τε ἄναξ ἀνδρῶν καὶ δῖος Ἀχιλλεύς. Τίς γάρ σφωε θεῶν ἔριδι ξυνέηκε μάχεσθαι; Λητοῦς καὶ Διὸς υἱός· ὃ γὰρ βασιλῆι χολωθεὶς νοῦσον ἀνὰ στρατὸν ὦρσε κακήν, ὀλέκοντο δὲ λαοί, οὕνεκα τὸν Χρύσην ἠτίμασεν ἀρητῆρα Ἀτρεΐδης· ὃ γὰρ ἦλθε θοὰς ἐπὶ νῆας Ἀχαιῶν λυσόμενός τε θύγατρα φέρων τ’ ἀπερείσι’ ἄποινα, στέμματ' ἔχων ἐν χερσὶν ἑκηβόλου Ἀπόλλωνος χρυσέῳ ἀνὰ σκήπτρῳ, καὶ λίσσετο πάντας Ἀχαιούς, Ἀτρεΐδα δὲ μάλιστα δύω, κοσμήτορε λαῶν· «Ἀτρεΐδαι τε καὶ ἄλλοι ἐϋκνήμιδες Ἀχαιοί, ὑμῖν μὲν θεοὶ δοῖεν Ὀλύμπια δώματ’ ἔχοντες ἐκπέρσαι Πριάμοιο πόλιν, εὖ δ’ οἴκαδ’ ἱκέσθαι· παῖδα δ' ἐμοὶ λύσαιτε φίλην, τὰ δ’ ἄποινα δέχεσθαι, ἁζόμενοι Διὸς υἱὸν ἑκηβόλον Ἀπόλλωνα.» Ἔνθ' ἄλλοι μὲν πάντες ἐπευφήμησαν Ἀχαιοὶ αἰδεῖσθαί θ’ ἱερῆα καὶ ἀγλαὰ δέχθαι ἄποινα· ἀλλ' οὐκ Ἀτρεΐδῃ Ἀγαμέ\n"
     ]
    }
   ],
   "source": [
    "print(iliad_Homer[:1000])"
   ]
  },
  {
   "cell_type": "code",
   "execution_count": 13,
   "metadata": {},
   "outputs": [
    {
     "name": "stdout",
     "output_type": "stream",
     "text": [
      " Τη μάνητα, θεά, τραγούδα μας του ξακουστού Αχιλλέα, ανάθεμά τη, πίκρες που 'δωκε στους Αχαιούς περίσσιες και πλήθος αντρειωμένες έστειλε ψυχές στον Άδη κάτω παλικαριών, στους σκύλους ρίχνοντας να φάνε τα κορμιά τους και στα όρνια ολούθε —έτσι το θέλησε να γίνει τότε ο Δίας— απ' τη στιγμή που πρωτοπιάστηκαν και χώρισαν οι δυο τους, του Ατρέα ο γιος ο στρατοκράτορας κι ο μέγας Αχιλλέας.  Ποιος τάχα απ' τους θεούς τους έσπρωξε να μπούνε σ' έτοια αμάχη; Του Δία και της Λητώς τους έσπρωξεν ο γιος, που με το ρήγα ολιάζοντας κακιά εξεσήκωσεν αρρώστια και πεθαίναν στρατός πολύς· τι δε σεβάστηκεν ο γιος του Ατρέα το Χρύση, του θεού το λειτουργό· στ' Αργίτικα γοργά καράβια είχε έρθει με λύτρα αρίφνητα, την κόρη του να ξαγοράσει πίσω, του μακροσαγιτάρη Απόλλωνα κρατώντας τα στεφάνια πα στο χρυσό ραβδί, και πρόσπεφτε μπρος στους Αργίτες όλους, ξεχωριστά στους δυο πολέμαρχους υγιούς του Ατρέα γυρνώντας: «Του Ατρέα βλαστάρια κι αποδέλοιποι καλαντρειωμένοι Αργίτες, σε σας οι θεοί που ζουν στον Όλυμπ\n"
     ]
    }
   ],
   "source": [
    "iliad_KK = iliad_KK.replace('\\xa0', '')\n",
    "print(iliad_KK[:1000])"
   ]
  },
  {
   "cell_type": "code",
   "execution_count": 14,
   "metadata": {},
   "outputs": [
    {
     "name": "stdout",
     "output_type": "stream",
     "text": [
      " BOOK ONE Sing, goddess, the anger of Peleus' son Achilleus and its devastation, which put pains thousandfold upon the Achaians, hurled in their multitudes to the house of Hades strong souls of heroes, but gave their bodies to be the delicate feasting 5 of dogs, of all birds, and the will of Zeus was accomplished since that time when first there stood in division of conflict Atreus' son the lord of men and brilliant Achilleus. What god was it then set them together in bitter collision? Zeus' son and Leto's, Apollo, who in anger at the king drove 10 the foul pestilence along the host, and the people perished, since Atreus' son had dishonored Chryses, priest of Apollo, when he came beside the fast ships of the Achaians to ransom back his daughter, carrying gifts beyond count and holding in his hands wound on a staff of gold the ribbons of Apollo 15 who strikes from afar, and supplicated all the Achaians, but above all Atreus' two sons, the marshals of the people: \"Sons of Atreus and you \n"
     ]
    }
   ],
   "source": [
    "print(iliad_RL[:1000])"
   ]
  },
  {
   "cell_type": "code",
   "execution_count": 15,
   "metadata": {},
   "outputs": [],
   "source": [
    "df2 = pd.read_excel('data/odyssey_homer.xlsx', encoding = 'utf-8')"
   ]
  },
  {
   "cell_type": "code",
   "execution_count": 18,
   "metadata": {},
   "outputs": [],
   "source": [
    "odyssey_Homer = merge_text(df2['Odyssey – original'])"
   ]
  },
  {
   "cell_type": "code",
   "execution_count": 19,
   "metadata": {},
   "outputs": [
    {
     "name": "stdout",
     "output_type": "stream",
     "text": [
      " ἄνδρα μοι ἔννεπε, μοῦσα, πολύτροπον, ὃς μάλα πολλὰ πλάγχθη, ἐπεὶ Τροίης ἱερὸν πτολίεθρον ἔπερσεν: πολλῶν δ᾽ ἀνθρώπων ἴδεν ἄστεα καὶ νόον ἔγνω, πολλὰ δ᾽ ὅ γ᾽ ἐν πόντῳ πάθεν ἄλγεα ὃν κατὰ θυμόν, ἀρνύμενος ἥν τε ψυχὴν καὶ νόστον ἑταίρων. ἀλλ᾽ οὐδ᾽ ὣς ἑτάρους ἐρρύσατο, ἱέμενός περ: αὐτῶν γὰρ σφετέρῃσιν ἀτασθαλίῃσιν ὄλοντο, νήπιοι, οἳ κατὰ βοῦς Ὑπερίονος Ἠελίοιο ἤσθιον: αὐτὰρ ὁ τοῖσιν ἀφείλετο νόστιμον ἦμαρ. τῶν ἁμόθεν γε, θεά, θύγατερ Διός, εἰπὲ καὶ ἡμῖν. ἔνθ᾽ ἄλλοι μὲν πάντες, ὅσοι φύγον αἰπὺν ὄλεθρον, οἴκοι ἔσαν, πόλεμόν τε πεφευγότες ἠδὲ θάλασσαν: τὸν δ᾽ οἶον νόστου κεχρημένον ἠδὲ γυναικὸς νύμφη πότνι᾽ ἔρυκε Καλυψὼ δῖα θεάων ἐν σπέσσι γλαφυροῖσι, λιλαιομένη πόσιν εἶναι. ἀλλ᾽ ὅτε δὴ ἔτος ἦλθε περιπλομένων ἐνιαυτῶν, τῷ οἱ ἐπεκλώσαντο θεοὶ οἶκόνδε νέεσθαι εἰς Ἰθάκην, οὐδ᾽ ἔνθα πεφυγμένος ἦεν ἀέθλων καὶ μετὰ οἷσι φίλοισι. θεοὶ δ᾽ ἐλέαιρον ἅπαντες νόσφι Ποσειδάωνος: ὁ δ᾽ ἀσπερχὲς μενέαινεν ἀντιθέῳ Ὀδυσῆι πάρος ἣν γαῖαν ἱκέσθαι. ἀλλ᾽ ὁ μὲν Αἰθίοπας μετεκίαθε τηλόθ᾽ ἐόντας, Αἰθίοπας τοὶ διχθὰ\n"
     ]
    }
   ],
   "source": [
    "print(odyssey_Homer[:1000])"
   ]
  },
  {
   "cell_type": "code",
   "execution_count": 69,
   "metadata": {},
   "outputs": [],
   "source": [
    "df3 = pd.read_excel('data/other.xlsx', encoding = 'utf-8')"
   ]
  },
  {
   "cell_type": "code",
   "execution_count": 70,
   "metadata": {},
   "outputs": [
    {
     "data": {
      "text/html": [
       "<div>\n",
       "<style scoped>\n",
       "    .dataframe tbody tr th:only-of-type {\n",
       "        vertical-align: middle;\n",
       "    }\n",
       "\n",
       "    .dataframe tbody tr th {\n",
       "        vertical-align: top;\n",
       "    }\n",
       "\n",
       "    .dataframe thead th {\n",
       "        text-align: right;\n",
       "    }\n",
       "</style>\n",
       "<table border=\"1\" class=\"dataframe\">\n",
       "  <thead>\n",
       "    <tr style=\"text-align: right;\">\n",
       "      <th></th>\n",
       "      <th>Shield of Heracles – Hesiode</th>\n",
       "      <th>Theogony – Hesiode</th>\n",
       "      <th>Works &amp; days – Hesiode</th>\n",
       "      <th>Lycurgus – Against Leocrates</th>\n",
       "      <th>Aristides – 44 Orationes</th>\n",
       "    </tr>\n",
       "  </thead>\n",
       "  <tbody>\n",
       "    <tr>\n",
       "      <th>0</th>\n",
       "      <td>ἢ οἵη προλιποῦσα δόμους καὶ πατρίδα γαῖαν</td>\n",
       "      <td>μουσάων Ἑλικωνιάδων ἀρχώμεθ᾽ ἀείδειν,</td>\n",
       "      <td>μοῦσαι Πιερίηθεν ἀοιδῇσιν κλείουσαι</td>\n",
       "      <td>Κατὰ Λεωκράτους</td>\n",
       "      <td>εἰς Δία</td>\n",
       "    </tr>\n",
       "    <tr>\n",
       "      <th>1</th>\n",
       "      <td>ἤλυθεν ἐς Θήβας μετ᾽ ἀρήιον Ἀμφιτρύωνα</td>\n",
       "      <td>αἵθ᾽ Ἑλικῶνος ἔχουσιν ὄρος μέγα τε ζάθεόν τε</td>\n",
       "      <td>δεῦτε, Δί᾽ ἐννέπετε, σφέτερον πατέρ᾽ ὑμνείουσαι:</td>\n",
       "      <td>NaN</td>\n",
       "      <td>NaN</td>\n",
       "    </tr>\n",
       "    <tr>\n",
       "      <th>2</th>\n",
       "      <td>Ἀλκμήνη, θυγάτηρ λαοσσόου Ἠλεκτρύωνος:</td>\n",
       "      <td>καί τε περὶ κρήνην ἰοειδέα πόσσ᾽ ἁπαλοῖσιν</td>\n",
       "      <td>ὅντε διὰ βροτοὶ ἄνδρες ὁμῶς ἄφατοί τε φατοί τε,</td>\n",
       "      <td>ηψποτηεσις μετὰ τὰ ἐν Χαιρωνείᾳ δεινὰ ψήφισμα ...</td>\n",
       "      <td>τάδε σοὶ κατ᾽ εὐχὴν, Ζεῦ βασιλεῦ τε καὶ σῶτερ,...</td>\n",
       "    </tr>\n",
       "    <tr>\n",
       "      <th>3</th>\n",
       "      <td>ἥ ῥα γυναικῶν φῦλον ἐκαίνυτο θηλυτεράων</td>\n",
       "      <td>ὀρχεῦνται καὶ βωμὸν ἐρισθενέος Κρονίωνος.</td>\n",
       "      <td>ῥητοί τ᾽ ἄρρητοί τε Διὸς μεγάλοιο ἕκητι.</td>\n",
       "      <td>NaN</td>\n",
       "      <td>NaN</td>\n",
       "    </tr>\n",
       "    <tr>\n",
       "      <th>4</th>\n",
       "      <td>εἴδεΐ τε μεγέθει τε: νόον γε μὲν οὔ τις ἔριζε</td>\n",
       "      <td>καί τε λοεσσάμεναι τέρενα χρόα Περμησσοῖο</td>\n",
       "      <td>ῥέα μὲν γὰρ βριάει, ῥέα δὲ βριάοντα χαλέπτει,</td>\n",
       "      <td>δικαίαν, ὦ Ἀθηναῖοι, καὶ εὐσεβῆ καὶ ὑπὲρ ὑμῶν ...</td>\n",
       "      <td>ὡς δὲ καὶ θεῶν ὅσα φῦλα ἀπορροὴν τῆς Διὸς τοῦ ...</td>\n",
       "    </tr>\n",
       "  </tbody>\n",
       "</table>\n",
       "</div>"
      ],
      "text/plain": [
       "                    Shield of Heracles – Hesiode  \\\n",
       "0      ἢ οἵη προλιποῦσα δόμους καὶ πατρίδα γαῖαν   \n",
       "1         ἤλυθεν ἐς Θήβας μετ᾽ ἀρήιον Ἀμφιτρύωνα   \n",
       "2         Ἀλκμήνη, θυγάτηρ λαοσσόου Ἠλεκτρύωνος:   \n",
       "3        ἥ ῥα γυναικῶν φῦλον ἐκαίνυτο θηλυτεράων   \n",
       "4  εἴδεΐ τε μεγέθει τε: νόον γε μὲν οὔ τις ἔριζε   \n",
       "\n",
       "                             Theogony – Hesiode  \\\n",
       "0         μουσάων Ἑλικωνιάδων ἀρχώμεθ᾽ ἀείδειν,   \n",
       "1  αἵθ᾽ Ἑλικῶνος ἔχουσιν ὄρος μέγα τε ζάθεόν τε   \n",
       "2    καί τε περὶ κρήνην ἰοειδέα πόσσ᾽ ἁπαλοῖσιν   \n",
       "3     ὀρχεῦνται καὶ βωμὸν ἐρισθενέος Κρονίωνος.   \n",
       "4     καί τε λοεσσάμεναι τέρενα χρόα Περμησσοῖο   \n",
       "\n",
       "                             Works & days – Hesiode  \\\n",
       "0               μοῦσαι Πιερίηθεν ἀοιδῇσιν κλείουσαι   \n",
       "1  δεῦτε, Δί᾽ ἐννέπετε, σφέτερον πατέρ᾽ ὑμνείουσαι:   \n",
       "2   ὅντε διὰ βροτοὶ ἄνδρες ὁμῶς ἄφατοί τε φατοί τε,   \n",
       "3          ῥητοί τ᾽ ἄρρητοί τε Διὸς μεγάλοιο ἕκητι.   \n",
       "4     ῥέα μὲν γὰρ βριάει, ῥέα δὲ βριάοντα χαλέπτει,   \n",
       "\n",
       "                        Lycurgus – Against Leocrates  \\\n",
       "0                                    Κατὰ Λεωκράτους   \n",
       "1                                                NaN   \n",
       "2  ηψποτηεσις μετὰ τὰ ἐν Χαιρωνείᾳ δεινὰ ψήφισμα ...   \n",
       "3                                                NaN   \n",
       "4  δικαίαν, ὦ Ἀθηναῖοι, καὶ εὐσεβῆ καὶ ὑπὲρ ὑμῶν ...   \n",
       "\n",
       "                            Aristides – 44 Orationes  \n",
       "0                                            εἰς Δία  \n",
       "1                                                NaN  \n",
       "2  τάδε σοὶ κατ᾽ εὐχὴν, Ζεῦ βασιλεῦ τε καὶ σῶτερ,...  \n",
       "3                                                NaN  \n",
       "4  ὡς δὲ καὶ θεῶν ὅσα φῦλα ἀπορροὴν τῆς Διὸς τοῦ ...  "
      ]
     },
     "execution_count": 70,
     "metadata": {},
     "output_type": "execute_result"
    }
   ],
   "source": [
    "df3.head()"
   ]
  },
  {
   "cell_type": "code",
   "execution_count": 71,
   "metadata": {},
   "outputs": [],
   "source": [
    "hesiode = merge_text(df3['Shield of Heracles – Hesiode']) + merge_text(df3['Theogony – Hesiode']) \\\n",
    "        + merge_text(df3['Works & days – Hesiode'])\n",
    "lycurgus = merge_text(df3['Lycurgus – Against Leocrates'])\n",
    "aristides = merge_text(df3['Aristides – 44 Orationes'])"
   ]
  },
  {
   "cell_type": "code",
   "execution_count": 124,
   "metadata": {},
   "outputs": [],
   "source": [
    "df4 = pd.read_excel('data/other2.xlsx', encoding = 'utf-8')"
   ]
  },
  {
   "cell_type": "code",
   "execution_count": 125,
   "metadata": {},
   "outputs": [
    {
     "data": {
      "text/html": [
       "<div>\n",
       "<style scoped>\n",
       "    .dataframe tbody tr th:only-of-type {\n",
       "        vertical-align: middle;\n",
       "    }\n",
       "\n",
       "    .dataframe tbody tr th {\n",
       "        vertical-align: top;\n",
       "    }\n",
       "\n",
       "    .dataframe thead th {\n",
       "        text-align: right;\n",
       "    }\n",
       "</style>\n",
       "<table border=\"1\" class=\"dataframe\">\n",
       "  <thead>\n",
       "    <tr style=\"text-align: right;\">\n",
       "      <th></th>\n",
       "      <th>Antiphon – speeches</th>\n",
       "      <th>Aristotle – Nicomachean Ethics (I-IV)</th>\n",
       "      <th>Aristotle – Economics</th>\n",
       "      <th>Thucydides – Peloponnesian War</th>\n",
       "    </tr>\n",
       "  </thead>\n",
       "  <tbody>\n",
       "    <tr>\n",
       "      <th>0</th>\n",
       "      <td>Φαρμακείας κατὰ τῆς μητρυιᾶς</td>\n",
       "      <td>πᾶσα τέχνη καὶ πᾶσα μέθοδος, ὁμοίως δὲ πρᾶξίς ...</td>\n",
       "      <td>α ἡ οἰκονομικὴ καὶ πολιτικὴ διαφέρει οὐ μόνον ...</td>\n",
       "      <td>Θουκυδίδης Ἀθηναῖος ξυνέγραψε τὸν πόλεμον τῶν ...</td>\n",
       "    </tr>\n",
       "    <tr>\n",
       "      <th>1</th>\n",
       "      <td>NaN</td>\n",
       "      <td>καὶ ποίας ἑκάστους μανθάνειν καὶ μέχρι τίνος, ...</td>\n",
       "      <td>NaN</td>\n",
       "      <td>NaN</td>\n",
       "    </tr>\n",
       "    <tr>\n",
       "      <th>2</th>\n",
       "      <td>νέος μὲν καὶ ἄπειρος δικῶν ἔγωγε ἔτι, δεινῶς δ...</td>\n",
       "      <td>καθ᾽ ἕκαστον μὲν ἄρα ὁ πεπαιδευμένος, ἁπλῶς δ᾽...</td>\n",
       "      <td>ἔνιαι μὲν οὖν τῶν τεχνῶν διῄρηνται, καὶ οὐ τῆς...</td>\n",
       "      <td>δηλοῖ δέ μοι καὶ τόδε τῶν παλαιῶν ἀσθένειαν οὐ...</td>\n",
       "    </tr>\n",
       "    <tr>\n",
       "      <th>3</th>\n",
       "      <td>NaN</td>\n",
       "      <td>NaN</td>\n",
       "      <td>NaN</td>\n",
       "      <td>NaN</td>\n",
       "    </tr>\n",
       "    <tr>\n",
       "      <th>4</th>\n",
       "      <td>δέομαι δ᾽ ὑμῶν, ὦ ἄνδρες, ἐὰν ἐπιδείξω ἐξ ἐπιβ...</td>\n",
       "      <td>λέγωμεν δ᾽ ἀναλαβόντες, ἐπειδὴ πᾶσα γνῶσις καὶ...</td>\n",
       "      <td>πόλις μὲν οὖν οἰκιῶν πλῆθός ἐστι καὶ χώρας καὶ...</td>\n",
       "      <td>Μίνως γὰρ παλαίτατος ὧν ἀκοῇ ἴσμεν ναυτικὸν ἐκ...</td>\n",
       "    </tr>\n",
       "  </tbody>\n",
       "</table>\n",
       "</div>"
      ],
      "text/plain": [
       "                                 Antiphon – speeches  \\\n",
       "0                       Φαρμακείας κατὰ τῆς μητρυιᾶς   \n",
       "1                                                NaN   \n",
       "2  νέος μὲν καὶ ἄπειρος δικῶν ἔγωγε ἔτι, δεινῶς δ...   \n",
       "3                                                NaN   \n",
       "4  δέομαι δ᾽ ὑμῶν, ὦ ἄνδρες, ἐὰν ἐπιδείξω ἐξ ἐπιβ...   \n",
       "\n",
       "               Aristotle – Nicomachean Ethics (I-IV)  \\\n",
       "0  πᾶσα τέχνη καὶ πᾶσα μέθοδος, ὁμοίως δὲ πρᾶξίς ...   \n",
       "1  καὶ ποίας ἑκάστους μανθάνειν καὶ μέχρι τίνος, ...   \n",
       "2  καθ᾽ ἕκαστον μὲν ἄρα ὁ πεπαιδευμένος, ἁπλῶς δ᾽...   \n",
       "3                                                NaN   \n",
       "4  λέγωμεν δ᾽ ἀναλαβόντες, ἐπειδὴ πᾶσα γνῶσις καὶ...   \n",
       "\n",
       "                               Aristotle – Economics  \\\n",
       "0  α ἡ οἰκονομικὴ καὶ πολιτικὴ διαφέρει οὐ μόνον ...   \n",
       "1                                                NaN   \n",
       "2  ἔνιαι μὲν οὖν τῶν τεχνῶν διῄρηνται, καὶ οὐ τῆς...   \n",
       "3                                                NaN   \n",
       "4  πόλις μὲν οὖν οἰκιῶν πλῆθός ἐστι καὶ χώρας καὶ...   \n",
       "\n",
       "                      Thucydides – Peloponnesian War  \n",
       "0  Θουκυδίδης Ἀθηναῖος ξυνέγραψε τὸν πόλεμον τῶν ...  \n",
       "1                                                NaN  \n",
       "2  δηλοῖ δέ μοι καὶ τόδε τῶν παλαιῶν ἀσθένειαν οὐ...  \n",
       "3                                                NaN  \n",
       "4  Μίνως γὰρ παλαίτατος ὧν ἀκοῇ ἴσμεν ναυτικὸν ἐκ...  "
      ]
     },
     "execution_count": 125,
     "metadata": {},
     "output_type": "execute_result"
    }
   ],
   "source": [
    "df4.head()"
   ]
  },
  {
   "cell_type": "code",
   "execution_count": 126,
   "metadata": {},
   "outputs": [],
   "source": [
    "aristotle = merge_text(df4['Aristotle – Economics']) + merge_text(df4['Aristotle – Nicomachean Ethics (I-IV)'])\n",
    "antiphon = merge_text(df4['Antiphon – speeches'])\n",
    "thucydides = merge_text(df4['Thucydides – Peloponnesian War'])"
   ]
  },
  {
   "cell_type": "markdown",
   "metadata": {},
   "source": [
    "## Export texts to txt"
   ]
  },
  {
   "cell_type": "code",
   "execution_count": 73,
   "metadata": {},
   "outputs": [],
   "source": [
    "def export_to_txt(text, name):\n",
    "    \n",
    "    f = open(\"txt/\" + name + \".txt\", \"w\")\n",
    "    f.write(text)\n",
    "    f.close()"
   ]
  },
  {
   "cell_type": "code",
   "execution_count": 127,
   "metadata": {},
   "outputs": [],
   "source": [
    "export_to_txt(iliad_Homer, 'iliad_Homer')\n",
    "export_to_txt(iliad_KK, 'iliad_KK')\n",
    "export_to_txt(iliad_RL, 'iliad_RL')\n",
    "\n",
    "export_to_txt(odyssey_Homer, 'odyssey_Homer')\n",
    "\n",
    "export_to_txt(hesiode, 'hesiode')\n",
    "export_to_txt(lycurgus, 'lycurgus')\n",
    "export_to_txt(aristides, 'aristides')\n",
    "\n",
    "export_to_txt(aristotle, 'aristotle')\n",
    "export_to_txt(antiphon, 'antiphon')\n",
    "export_to_txt(thucydides, 'thucydides')"
   ]
  },
  {
   "cell_type": "markdown",
   "metadata": {},
   "source": [
    "# Lemmatization\n",
    "## Update lemmatization dictionary"
   ]
  },
  {
   "cell_type": "code",
   "execution_count": 78,
   "metadata": {},
   "outputs": [],
   "source": [
    "f = open(\"lem/greek-lemmata.txt\", \"r\")\n",
    "txt = f.read()"
   ]
  },
  {
   "cell_type": "code",
   "execution_count": 80,
   "metadata": {},
   "outputs": [],
   "source": [
    "drop_list = ['(pres', '(imperf', '(doric', '(aor', '(plup', '(perf', '(subj', '(poetic', \n",
    "             '(fut', '(nom/voc', '(epic', '(masc/fem/neut', '(masc', '(neut',\n",
    "             '(indeclform', '(fem', '(masc/fem']\n",
    "\n",
    "words = re.split('\\n', txt)\n",
    "words_first_form, words_id, words_declensions = [], [], []\n",
    "length = []\n",
    "\n",
    "for word in words:\n",
    "    declensions = re.split('\\t', word)\n",
    "    \n",
    "    if len(declensions) >= 2:\n",
    "        words_first_form.append(declensions[0])\n",
    "        words_id.append(declensions[1])\n",
    "        \n",
    "        word_decl = []\n",
    "        for form in declensions[2:]:\n",
    "            cleaned = re.findall('([A-z()*=|/\\\\+_^]+)(?=\\s)+', form)\n",
    "            if len(cleaned) >= 1:\n",
    "                if not(cleaned[0] in drop_list):\n",
    "                    \n",
    "                    word_decl.append(cleaned[0])\n",
    "        \n",
    "        words_declensions.append(word_decl)\n",
    "\n",
    "f.close()"
   ]
  },
  {
   "cell_type": "code",
   "execution_count": 81,
   "metadata": {},
   "outputs": [],
   "source": [
    "df_lemmatizer = pd.DataFrame({'first_form': words_first_form,\n",
    "                              'id': words_id,\n",
    "                              'declensions' : words_declensions})"
   ]
  },
  {
   "cell_type": "code",
   "execution_count": 83,
   "metadata": {},
   "outputs": [
    {
     "data": {
      "text/html": [
       "<div>\n",
       "<style scoped>\n",
       "    .dataframe tbody tr th:only-of-type {\n",
       "        vertical-align: middle;\n",
       "    }\n",
       "\n",
       "    .dataframe tbody tr th {\n",
       "        vertical-align: top;\n",
       "    }\n",
       "\n",
       "    .dataframe thead th {\n",
       "        text-align: right;\n",
       "    }\n",
       "</style>\n",
       "<table border=\"1\" class=\"dataframe\">\n",
       "  <thead>\n",
       "    <tr style=\"text-align: right;\">\n",
       "      <th></th>\n",
       "      <th>first_form</th>\n",
       "      <th>id</th>\n",
       "      <th>declensions</th>\n",
       "    </tr>\n",
       "  </thead>\n",
       "  <tbody>\n",
       "    <tr>\n",
       "      <th>0</th>\n",
       "      <td>a(/bra</td>\n",
       "      <td>537850</td>\n",
       "      <td>[a(/bra, a(/brai, a(/brais, a(/bran, a(/bras, ...</td>\n",
       "    </tr>\n",
       "    <tr>\n",
       "      <th>1</th>\n",
       "      <td>a(/bruna</td>\n",
       "      <td>575884</td>\n",
       "      <td>[a(/bruna]</td>\n",
       "    </tr>\n",
       "    <tr>\n",
       "      <th>2</th>\n",
       "      <td>a(/dhma</td>\n",
       "      <td>1744787</td>\n",
       "      <td>[a(/dhma]</td>\n",
       "    </tr>\n",
       "    <tr>\n",
       "      <th>3</th>\n",
       "      <td>a(/dhn</td>\n",
       "      <td>1750487</td>\n",
       "      <td>[a(/ddhn, a(/dhn, a)/ddhn, a)/dhn]</td>\n",
       "    </tr>\n",
       "    <tr>\n",
       "      <th>4</th>\n",
       "      <td>a(/dicis</td>\n",
       "      <td>1896613</td>\n",
       "      <td>[a(/dicis]</td>\n",
       "    </tr>\n",
       "  </tbody>\n",
       "</table>\n",
       "</div>"
      ],
      "text/plain": [
       "  first_form       id                                        declensions\n",
       "0     a(/bra   537850  [a(/bra, a(/brai, a(/brais, a(/bran, a(/bras, ...\n",
       "1   a(/bruna   575884                                         [a(/bruna]\n",
       "2    a(/dhma  1744787                                          [a(/dhma]\n",
       "3     a(/dhn  1750487                 [a(/ddhn, a(/dhn, a)/ddhn, a)/dhn]\n",
       "4   a(/dicis  1896613                                         [a(/dicis]"
      ]
     },
     "execution_count": 83,
     "metadata": {},
     "output_type": "execute_result"
    }
   ],
   "source": [
    "df_lemmatizer.head(5)"
   ]
  },
  {
   "cell_type": "code",
   "execution_count": 29,
   "metadata": {},
   "outputs": [
    {
     "data": {
      "text/plain": [
       "114098"
      ]
     },
     "execution_count": 29,
     "metadata": {},
     "output_type": "execute_result"
    }
   ],
   "source": [
    "len(df_lemmatizer)"
   ]
  },
  {
   "cell_type": "code",
   "execution_count": 58,
   "metadata": {},
   "outputs": [
    {
     "data": {
      "text/html": [
       "<div>\n",
       "<style scoped>\n",
       "    .dataframe tbody tr th:only-of-type {\n",
       "        vertical-align: middle;\n",
       "    }\n",
       "\n",
       "    .dataframe tbody tr th {\n",
       "        vertical-align: top;\n",
       "    }\n",
       "\n",
       "    .dataframe thead th {\n",
       "        text-align: right;\n",
       "    }\n",
       "</style>\n",
       "<table border=\"1\" class=\"dataframe\">\n",
       "  <thead>\n",
       "    <tr style=\"text-align: right;\">\n",
       "      <th></th>\n",
       "      <th>match</th>\n",
       "      <th>code</th>\n",
       "      <th>transcript</th>\n",
       "      <th>indice</th>\n",
       "      <th>comment</th>\n",
       "    </tr>\n",
       "  </thead>\n",
       "  <tbody>\n",
       "    <tr>\n",
       "      <th>0</th>\n",
       "      <td>*)\\|a</td>\n",
       "      <td>U+1F8A</td>\n",
       "      <td>ᾊ</td>\n",
       "      <td>225190138</td>\n",
       "      <td>GREEK CAPITAL LETTER ALPHA WITH PSILI AND VARI...</td>\n",
       "    </tr>\n",
       "    <tr>\n",
       "      <th>1</th>\n",
       "      <td>*(\\|a</td>\n",
       "      <td>U+1F8B</td>\n",
       "      <td>ᾋ</td>\n",
       "      <td>225190139</td>\n",
       "      <td>GREEK CAPITAL LETTER ALPHA WITH DASIA AND VARI...</td>\n",
       "    </tr>\n",
       "    <tr>\n",
       "      <th>2</th>\n",
       "      <td>*)/|a</td>\n",
       "      <td>U+1F8C</td>\n",
       "      <td>ᾌ</td>\n",
       "      <td>225190140</td>\n",
       "      <td>GREEK CAPITAL LETTER ALPHA WITH PSILI AND OXIA...</td>\n",
       "    </tr>\n",
       "    <tr>\n",
       "      <th>3</th>\n",
       "      <td>*(/|a</td>\n",
       "      <td>U+1F8D</td>\n",
       "      <td>ᾍ</td>\n",
       "      <td>225190141</td>\n",
       "      <td>GREEK CAPITAL LETTER ALPHA WITH DASIA AND OXIA...</td>\n",
       "    </tr>\n",
       "    <tr>\n",
       "      <th>4</th>\n",
       "      <td>*)=|a</td>\n",
       "      <td>U+1F8E</td>\n",
       "      <td>ᾎ</td>\n",
       "      <td>225190142</td>\n",
       "      <td>GREEK CAPITAL LETTER ALPHA WITH PSILI AND PERI...</td>\n",
       "    </tr>\n",
       "  </tbody>\n",
       "</table>\n",
       "</div>"
      ],
      "text/plain": [
       "   match    code transcript     indice  \\\n",
       "0  *)\\|a  U+1F8A          ᾊ  225190138   \n",
       "1  *(\\|a  U+1F8B          ᾋ  225190139   \n",
       "2  *)/|a  U+1F8C          ᾌ  225190140   \n",
       "3  *(/|a  U+1F8D          ᾍ  225190141   \n",
       "4  *)=|a  U+1F8E          ᾎ  225190142   \n",
       "\n",
       "                                             comment  \n",
       "0  GREEK CAPITAL LETTER ALPHA WITH PSILI AND VARI...  \n",
       "1  GREEK CAPITAL LETTER ALPHA WITH DASIA AND VARI...  \n",
       "2  GREEK CAPITAL LETTER ALPHA WITH PSILI AND OXIA...  \n",
       "3  GREEK CAPITAL LETTER ALPHA WITH DASIA AND OXIA...  \n",
       "4  GREEK CAPITAL LETTER ALPHA WITH PSILI AND PERI...  "
      ]
     },
     "execution_count": 58,
     "metadata": {},
     "output_type": "execute_result"
    }
   ],
   "source": [
    "df_betunicode = pd.read_csv('lem/betunicode_gr.csv', delimiter = ';')\n",
    "df_betunicode.head()"
   ]
  },
  {
   "cell_type": "code",
   "execution_count": 59,
   "metadata": {},
   "outputs": [
    {
     "data": {
      "text/plain": [
       "286"
      ]
     },
     "execution_count": 59,
     "metadata": {},
     "output_type": "execute_result"
    }
   ],
   "source": [
    "len(df_betunicode)"
   ]
  },
  {
   "cell_type": "code",
   "execution_count": 95,
   "metadata": {},
   "outputs": [],
   "source": [
    "declensions = df_lemmatizer['declensions'].values"
   ]
  },
  {
   "cell_type": "code",
   "execution_count": 108,
   "metadata": {},
   "outputs": [],
   "source": [
    "declensions_lem = []\n",
    "\n",
    "for declension_list in declensions:\n",
    "    decl_list = []\n",
    "    \n",
    "    for declension in declension_list:\n",
    "        decl_lem = declension\n",
    "        \n",
    "        for ind, row in df_betunicode.iterrows():\n",
    "            decl_lem = decl_lem.replace(row['match'], row['transcript'])\n",
    "            \n",
    "        decl_list.append(decl_lem)\n",
    "    \n",
    "    declensions_lem.append(decl_list)"
   ]
  },
  {
   "cell_type": "code",
   "execution_count": 117,
   "metadata": {},
   "outputs": [],
   "source": [
    "df_lemmatizer['declensions_gr'] = declensions_lem"
   ]
  },
  {
   "cell_type": "code",
   "execution_count": 169,
   "metadata": {},
   "outputs": [],
   "source": [
    "# Correct empty entries\n",
    "\n",
    "df_empty = df_lemmatizer[df_lemmatizer['declensions_gr'].astype('str') == '[]']\n",
    "list_decl_gr = []\n",
    "\n",
    "for ind, row in df_empty.iterrows():\n",
    "    form_lem = row['first_form']\n",
    "    df_empty['declensions'][ind] = [form_lem]\n",
    "    \n",
    "    for ind, row in df_betunicode.iterrows():\n",
    "        form_lem = form_lem.replace(row['match'], row['transcript'])\n",
    "        \n",
    "    list_decl_gr.append([form_lem])\n",
    "    \n",
    "df_empty['declensions_gr'] = list_decl_gr"
   ]
  },
  {
   "cell_type": "code",
   "execution_count": 170,
   "metadata": {},
   "outputs": [],
   "source": [
    "df_lemmatizer[df_lemmatizer['declensions_gr'].astype('str') == '[]'] = df_empty"
   ]
  },
  {
   "cell_type": "code",
   "execution_count": 173,
   "metadata": {},
   "outputs": [],
   "source": [
    "first_form_gr = []\n",
    "\n",
    "for ind, row in df_lemmatizer.iterrows():\n",
    "    first_form_gr.append(row['declensions_gr'][0])"
   ]
  },
  {
   "cell_type": "code",
   "execution_count": 174,
   "metadata": {},
   "outputs": [],
   "source": [
    "df_lemmatizer['first_form_gr'] = first_form_gr"
   ]
  },
  {
   "cell_type": "code",
   "execution_count": 150,
   "metadata": {},
   "outputs": [],
   "source": [
    "# Reorder columns\n",
    "df_lemmatizer = df_lemmatizer[['id', 'first_form', 'declensions', 'first_form_gr', 'declensions_gr']]"
   ]
  },
  {
   "cell_type": "raw",
   "metadata": {},
   "source": [
    "## A SUPPRIMER \n",
    "\n",
    "drop_list = ['\\(pres', '\\(imperf', '\\(doric', '\\(aor', '\\(plup', '\\(perf', '\\(subj', \n",
    "             '\\(poetic', '\\(fut', '\\(nom/voc', '\\(epic', '\\(masc/fem/neut', '\\(masc', \n",
    "             '\\(neut', '\\(indeclform', '\\(fem', '\\(masc/fem']\n",
    "\n",
    "drop_list_gr = ['̔μασξ́φεμ', '̔περφ', '̔πρεσ', '̔ιμπερφ', '̔δοριξ', '̔αορ', '̔πλυπ', '̔περφ', '̔συβj', \n",
    "                '̔ποετιξ', '̔φυτ', '̔νομ́ϝοξ', '̔επιξ', '̔μασξ́φεμ́νευτ', '̔μασξ', '̔νευτ',\n",
    "                '̔φεμ', '̔μασξ́φεμ', '̔ινδελφορμ']\n",
    "        \n",
    "for ind, row in df_lemmatizer.iterrows():\n",
    "    erroneous = False\n",
    "    \n",
    "    for drop in drop_list:\n",
    "        if len(re.findall(drop, str(row['declensions']))) > 0:\n",
    "            erroneous = True\n",
    "            break\n",
    "    \n",
    "    if erroneous:\n",
    "        clean_declension, clean_declension_gr = [], []\n",
    "        for decl in row['declensions']:\n",
    "            if not(decl in drop_list):\n",
    "                clean_declension.append(decl)\n",
    "        for decl_gr in row['declensions_gr']:\n",
    "            if not(decl_gr in drop_list_gr):\n",
    "                clean_declension_gr.append(decl_gr)\n",
    "    \n",
    "        df_lemmatizer['declensions'][ind] = clean_declension\n",
    "        df_lemmatizer['declensions_gr'][ind] = clean_declension_gr\n",
    "               \n",
    "    if ind%1000 == 0:\n",
    "        print(str(100*ind/len(df_lemmatizer))[:5] + '%')"
   ]
  },
  {
   "cell_type": "code",
   "execution_count": 140,
   "metadata": {
    "scrolled": true
   },
   "outputs": [
    {
     "data": {
      "text/plain": [
       "array([list(['ἅφαιστοσ', 'ἁφαίστοιο', 'ἁφαίστου', 'ἁφαίστῳ'])],\n",
       "      dtype=object)"
      ]
     },
     "execution_count": 140,
     "metadata": {},
     "output_type": "execute_result"
    }
   ],
   "source": [
    "df_lemmatizer[df_lemmatizer['id'] == 18811312]['declensions_gr'].values"
   ]
  },
  {
   "cell_type": "code",
   "execution_count": null,
   "metadata": {},
   "outputs": [],
   "source": [
    "df_lemmatizer.to_json('lem/lemmatizer.json')"
   ]
  },
  {
   "cell_type": "markdown",
   "metadata": {},
   "source": [
    "## Dictionary-based lemmatization"
   ]
  },
  {
   "cell_type": "markdown",
   "metadata": {},
   "source": [
    "### Create a concise lemmatizer"
   ]
  },
  {
   "cell_type": "code",
   "execution_count": 98,
   "metadata": {},
   "outputs": [],
   "source": [
    "df_lemmatizer = pd.read_json('lem/lemmatizer.json').reset_index().drop(columns = 'index')"
   ]
  },
  {
   "cell_type": "code",
   "execution_count": 99,
   "metadata": {},
   "outputs": [],
   "source": [
    "ind_short = []\n",
    "\n",
    "for ind, row in df_lemmatizer.iterrows():\n",
    "    if len(row['declensions_gr']) > 1:\n",
    "        ind_short.append(ind)"
   ]
  },
  {
   "cell_type": "code",
   "execution_count": 100,
   "metadata": {},
   "outputs": [],
   "source": [
    "df_shortLem = df_lemmatizer.iloc[ind_short]"
   ]
  },
  {
   "cell_type": "code",
   "execution_count": 101,
   "metadata": {},
   "outputs": [],
   "source": [
    "df_shortLem = df_shortLem.reset_index().drop(columns = ['index'])"
   ]
  },
  {
   "cell_type": "code",
   "execution_count": 102,
   "metadata": {},
   "outputs": [
    {
     "data": {
      "text/plain": [
       "75642"
      ]
     },
     "execution_count": 102,
     "metadata": {},
     "output_type": "execute_result"
    }
   ],
   "source": [
    "len(df_shortLem)"
   ]
  },
  {
   "cell_type": "code",
   "execution_count": 103,
   "metadata": {},
   "outputs": [],
   "source": [
    "df_shortLem['length'] = 0"
   ]
  },
  {
   "cell_type": "code",
   "execution_count": 104,
   "metadata": {},
   "outputs": [],
   "source": [
    "for ind, row in df_shortLem.iterrows():\n",
    "    df_shortLem['length'][ind] = len(row['first_form_gr'])"
   ]
  },
  {
   "cell_type": "code",
   "execution_count": 105,
   "metadata": {},
   "outputs": [],
   "source": [
    "df_shortLem = df_shortLem.sort_values(\n",
    "    'length', ascending = False).reset_index().drop(columns = ['index'])"
   ]
  },
  {
   "cell_type": "code",
   "execution_count": 106,
   "metadata": {},
   "outputs": [],
   "source": [
    "df_shortLem.to_json('lem/short.json')"
   ]
  },
  {
   "cell_type": "markdown",
   "metadata": {},
   "source": [
    "### Lemmatize"
   ]
  },
  {
   "cell_type": "code",
   "execution_count": 107,
   "metadata": {},
   "outputs": [],
   "source": [
    "df_shortLem = pd.read_json('lem/short.json').reset_index().drop(columns = 'index')"
   ]
  },
  {
   "cell_type": "code",
   "execution_count": 116,
   "metadata": {},
   "outputs": [],
   "source": [
    "def lemmatize(lemmatizer, text, form = 'first_form_gr'):\n",
    "    \n",
    "    text_ = ''\n",
    "    \n",
    "    split = re.split('[\\s\\.,·:;\\'—«»*]', text)\n",
    "    \n",
    "    for word in split:\n",
    "        if len(word) > 0:\n",
    "            text_ += word + ' '\n",
    "            \n",
    "    text_ = text_[:-1].lower()\n",
    "    \n",
    "    for ind, row in lemmatizer.iterrows():\n",
    "        for declension in row['declensions_gr']:\n",
    "            text_ = text_.replace(declension + ' ', row[form] + ' ')\n",
    "    \n",
    "        if ind%10000 == 0:\n",
    "            print(str(100*ind/len(lemmatizer))[:5] + '%')\n",
    "            \n",
    "    return text_"
   ]
  },
  {
   "cell_type": "code",
   "execution_count": 117,
   "metadata": {},
   "outputs": [
    {
     "name": "stdout",
     "output_type": "stream",
     "text": [
      "0.0%\n",
      "13.22%\n",
      "26.44%\n",
      "39.66%\n",
      "52.88%\n",
      "66.10%\n",
      "79.32%\n",
      "92.54%\n"
     ]
    }
   ],
   "source": [
    "lycurgus_lem = lemmatize(df_shortLem, lycurgus)\n",
    "export_to_txt(lycurgus_lem, 'lycurgus_lem')"
   ]
  },
  {
   "cell_type": "code",
   "execution_count": 118,
   "metadata": {},
   "outputs": [
    {
     "name": "stdout",
     "output_type": "stream",
     "text": [
      "0.0%\n",
      "13.22%\n",
      "26.44%\n",
      "39.66%\n",
      "52.88%\n",
      "66.10%\n",
      "79.32%\n",
      "92.54%\n"
     ]
    }
   ],
   "source": [
    "hesiode_lem = lemmatize(df_shortLem, hesiode)\n",
    "export_to_txt(hesiode_lem, 'hesiode_lem')"
   ]
  },
  {
   "cell_type": "code",
   "execution_count": 119,
   "metadata": {},
   "outputs": [
    {
     "name": "stdout",
     "output_type": "stream",
     "text": [
      "0.0%\n",
      "13.22%\n",
      "26.44%\n",
      "39.66%\n",
      "52.88%\n",
      "66.10%\n",
      "79.32%\n",
      "92.54%\n"
     ]
    }
   ],
   "source": [
    "aristides_lem = lemmatize(df_shortLem, aristides)\n",
    "export_to_txt(aristides_lem, 'aristides_lem')"
   ]
  },
  {
   "cell_type": "code",
   "execution_count": 120,
   "metadata": {},
   "outputs": [
    {
     "name": "stdout",
     "output_type": "stream",
     "text": [
      "0.0%\n",
      "13.22%\n",
      "26.44%\n",
      "39.66%\n",
      "52.88%\n",
      "66.10%\n",
      "79.32%\n",
      "92.54%\n"
     ]
    }
   ],
   "source": [
    "iliad_Homer_lem = lemmatize(df_shortLem, iliad_Homer)\n",
    "export_to_txt(iliad_Homer_lem, 'iliad_Homer_lem')"
   ]
  },
  {
   "cell_type": "code",
   "execution_count": 121,
   "metadata": {},
   "outputs": [
    {
     "name": "stdout",
     "output_type": "stream",
     "text": [
      "0.0%\n",
      "13.22%\n",
      "26.44%\n",
      "39.66%\n",
      "52.88%\n",
      "66.10%\n",
      "79.32%\n",
      "92.54%\n"
     ]
    }
   ],
   "source": [
    "odyssey_Homer_lem = lemmatize(df_shortLem, odyssey_Homer)\n",
    "export_to_txt(odyssey_Homer_lem, 'odyssey_Homer_lem')"
   ]
  },
  {
   "cell_type": "code",
   "execution_count": 128,
   "metadata": {},
   "outputs": [
    {
     "name": "stdout",
     "output_type": "stream",
     "text": [
      "0.0%\n",
      "13.22%\n",
      "26.44%\n",
      "39.66%\n",
      "52.88%\n",
      "66.10%\n",
      "79.32%\n",
      "92.54%\n"
     ]
    }
   ],
   "source": [
    "aristotle_lem = lemmatize(df_shortLem, aristotle)\n",
    "export_to_txt(aristotle_lem, 'aristotle_lem')"
   ]
  },
  {
   "cell_type": "code",
   "execution_count": 129,
   "metadata": {},
   "outputs": [
    {
     "name": "stdout",
     "output_type": "stream",
     "text": [
      "0.0%\n",
      "13.22%\n",
      "26.44%\n",
      "39.66%\n",
      "52.88%\n",
      "66.10%\n",
      "79.32%\n",
      "92.54%\n"
     ]
    }
   ],
   "source": [
    "antiphon_lem = lemmatize(df_shortLem, aantiphonphonhon)\n",
    "export_to_txt(antiphon_lem, 'antiphon_lem')"
   ]
  },
  {
   "cell_type": "code",
   "execution_count": 130,
   "metadata": {},
   "outputs": [
    {
     "name": "stdout",
     "output_type": "stream",
     "text": [
      "0.0%\n",
      "13.22%\n",
      "26.44%\n",
      "39.66%\n",
      "52.88%\n",
      "66.10%\n",
      "79.32%\n",
      "92.54%\n"
     ]
    }
   ],
   "source": [
    "thucydides_lem = lemmatize(df_shortLem, thucydides)\n",
    "export_to_txt(thucydides_lem, 'thucydides_lem')"
   ]
  },
  {
   "cell_type": "code",
   "execution_count": 131,
   "metadata": {},
   "outputs": [],
   "source": [
    "export_to_txt(antiphon + aristides + lycurgus, 'oral')\n",
    "export_to_txt(antiphon_lem + aristides_lem + lycurgus_lem, 'oral_lem')\n",
    "export_to_txt(hesiode + thucydides + aristotle, 'written')\n",
    "export_to_txt(hesiode_lem + thucydides_lem + aristotle_lem, 'written_lem')"
   ]
  },
  {
   "cell_type": "markdown",
   "metadata": {},
   "source": [
    "## Declension-based lemmatization"
   ]
  },
  {
   "cell_type": "raw",
   "metadata": {},
   "source": [
    "declensions = [\n",
    "    ['ά', 'άν', 'ᾶς', 'ᾷ', 'αί', 'άς', 'ῶν', 'αῖς'], # 1st\n",
    "    ['η', 'ην', 'ης', 'ῃ', 'αι', 'αις', 'ας', 'ῶν'], # 1st\n",
    "    ['α', 'αν', 'ης', 'ῃ', 'αι', 'αις', 'ας', 'ῶν'], # 1st\n",
    "    ['ας', 'α', 'αν', 'ου', 'ᾳ', 'αι', 'ας', 'ῶν', 'αις'], # 1st\n",
    "    ['ης', 'α', 'ην', 'ου', 'ῃ', 'αι', 'ας', 'ων', 'αις'], # 1st\n",
    "    ['ος', 'ε', 'ον', 'ου', 'ῳ', 'οι', 'ους', 'ων', 'οις'], # 2nd\n",
    "    ['ον', 'ου', 'ῳ', 'α', 'ων', 'οις'], # 2nd\n",
    "    ['ς', 'α', 'ος', 'ι', 'ές', 'ας', 'ων', 'σι'], # 3rd\n",
    "    ['ς', 'ος', 'ι', 'α', 'ων', 'σι']] # 3rd"
   ]
  }
 ],
 "metadata": {
  "kernelspec": {
   "display_name": "Python 3",
   "language": "python",
   "name": "python3"
  },
  "language_info": {
   "codemirror_mode": {
    "name": "ipython",
    "version": 3
   },
   "file_extension": ".py",
   "mimetype": "text/x-python",
   "name": "python",
   "nbconvert_exporter": "python",
   "pygments_lexer": "ipython3",
   "version": "3.6.7"
  }
 },
 "nbformat": 4,
 "nbformat_minor": 2
}
