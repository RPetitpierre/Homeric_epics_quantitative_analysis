{
 "cells": [
  {
   "cell_type": "markdown",
   "metadata": {},
   "source": [
    "# Imports"
   ]
  },
  {
   "cell_type": "code",
   "execution_count": 1,
   "metadata": {},
   "outputs": [],
   "source": [
    "# Local import\n",
    "import XML_function"
   ]
  },
  {
   "cell_type": "code",
   "execution_count": 2,
   "metadata": {},
   "outputs": [],
   "source": [
    "# Global imports\n",
    "import os\n",
    "\n",
    "import numpy as np\n",
    "import pandas as pd\n",
    "\n",
    "import seaborn as sns\n",
    "import matplotlib.pyplot as plt\n",
    "from matplotlib import rc\n",
    "\n",
    "from sklearn.utils import shuffle\n",
    "from sklearn.model_selection import train_test_split\n",
    "from sklearn.discriminant_analysis import LinearDiscriminantAnalysis"
   ]
  },
  {
   "cell_type": "code",
   "execution_count": 3,
   "metadata": {},
   "outputs": [],
   "source": [
    "# Silence warnings\n",
    "import warnings\n",
    "warnings.filterwarnings(\"ignore\")\n",
    "pd.options.mode.chained_assignment = None"
   ]
  },
  {
   "cell_type": "markdown",
   "metadata": {},
   "source": [
    "# Corpora"
   ]
  },
  {
   "cell_type": "code",
   "execution_count": 30,
   "metadata": {},
   "outputs": [],
   "source": [
    "df_Corpus = pd.read_csv('data/metadata_corpus.csv').drop(columns = 'Unnamed: 0')"
   ]
  },
  {
   "cell_type": "code",
   "execution_count": 31,
   "metadata": {},
   "outputs": [],
   "source": [
    "df_Homer = df_Corpus[df_Corpus['author'] == 'Homer']\n",
    "df_Odyssey = df_Homer[df_Homer['title'] == 'Odyssey (Greek). Machine readable text']\n",
    "df_Iliad = df_Homer[df_Homer['title'] == 'Iliad (Greek). Machine readable text']\n",
    "df_Corpus_WO = df_Corpus[df_Corpus['author'] != 'Homer']"
   ]
  },
  {
   "cell_type": "code",
   "execution_count": 32,
   "metadata": {},
   "outputs": [
    {
     "data": {
      "text/html": [
       "<div>\n",
       "<style scoped>\n",
       "    .dataframe tbody tr th:only-of-type {\n",
       "        vertical-align: middle;\n",
       "    }\n",
       "\n",
       "    .dataframe tbody tr th {\n",
       "        vertical-align: top;\n",
       "    }\n",
       "\n",
       "    .dataframe thead th {\n",
       "        text-align: right;\n",
       "    }\n",
       "</style>\n",
       "<table border=\"1\" class=\"dataframe\">\n",
       "  <thead>\n",
       "    <tr style=\"text-align: right;\">\n",
       "      <th></th>\n",
       "      <th>author</th>\n",
       "      <th>title</th>\n",
       "      <th>sentence</th>\n",
       "      <th>verse</th>\n",
       "      <th>token_position</th>\n",
       "      <th>verse_occurence</th>\n",
       "      <th>morphology</th>\n",
       "      <th>position_in_sentence</th>\n",
       "      <th>word</th>\n",
       "      <th>lemmata_1</th>\n",
       "      <th>lemmata_2</th>\n",
       "      <th>part_of_speech</th>\n",
       "      <th>person</th>\n",
       "      <th>number</th>\n",
       "      <th>tense</th>\n",
       "      <th>mood</th>\n",
       "      <th>voice</th>\n",
       "      <th>gender</th>\n",
       "      <th>case</th>\n",
       "      <th>degree</th>\n",
       "    </tr>\n",
       "  </thead>\n",
       "  <tbody>\n",
       "    <tr>\n",
       "      <th>0</th>\n",
       "      <td>Homer</td>\n",
       "      <td>Odyssey (Greek). Machine readable text</td>\n",
       "      <td>1</td>\n",
       "      <td>1.1_</td>\n",
       "      <td>1</td>\n",
       "      <td>1</td>\n",
       "      <td>n-s---ma-</td>\n",
       "      <td>1</td>\n",
       "      <td>ἄνδρα</td>\n",
       "      <td>ἀνήρ</td>\n",
       "      <td>NaN</td>\n",
       "      <td>noun</td>\n",
       "      <td>NaN</td>\n",
       "      <td>singular</td>\n",
       "      <td>NaN</td>\n",
       "      <td>NaN</td>\n",
       "      <td>NaN</td>\n",
       "      <td>masculine</td>\n",
       "      <td>accusative</td>\n",
       "      <td>NaN</td>\n",
       "    </tr>\n",
       "  </tbody>\n",
       "</table>\n",
       "</div>"
      ],
      "text/plain": [
       "  author                                   title  sentence verse  \\\n",
       "0  Homer  Odyssey (Greek). Machine readable text         1  1.1_   \n",
       "\n",
       "   token_position  verse_occurence morphology  position_in_sentence   word  \\\n",
       "0               1                1  n-s---ma-                     1  ἄνδρα   \n",
       "\n",
       "  lemmata_1 lemmata_2 part_of_speech person    number tense mood voice  \\\n",
       "0      ἀνήρ       NaN           noun    NaN  singular   NaN  NaN   NaN   \n",
       "\n",
       "      gender        case degree  \n",
       "0  masculine  accusative    NaN  "
      ]
     },
     "execution_count": 32,
     "metadata": {},
     "output_type": "execute_result"
    }
   ],
   "source": [
    "df_Corpus.head(1)"
   ]
  },
  {
   "cell_type": "raw",
   "metadata": {},
   "source": [
    "morpho_name = ['part_of_speech', 'person', 'number', 'tense', 'mood',\n",
    "                    'voice', 'gender', 'degree', 'case']\n",
    "\n",
    "for feature in morpho_name:\n",
    "    XML_function.stacked_plot_excel([df_Corpus_WO, df_Homer], [\n",
    "        'Corpus', 'Homer'], feature)"
   ]
  },
  {
   "cell_type": "code",
   "execution_count": 33,
   "metadata": {},
   "outputs": [],
   "source": [
    "morpho_name = ['part_of_speech', 'person', 'number', 'tense', 'mood',\n",
    "                    'voice', 'gender', 'degree', 'case']\n",
    "\n",
    "df_Corpus['index'] = df_Corpus.index\n",
    "\n",
    "for name in morpho_name:\n",
    "    df = pd.get_dummies(df_Corpus[name])\n",
    "    df['index'] = df.index\n",
    "    df_Corpus = pd.merge(df_Corpus, df, on = 'index', how = 'inner')"
   ]
  },
  {
   "cell_type": "code",
   "execution_count": 35,
   "metadata": {},
   "outputs": [],
   "source": [
    "df_Corpus['class'] = 1\n",
    "df_ = df_Corpus[df_Corpus['author'] == 'Homer']\n",
    "df_['class'] = 2"
   ]
  },
  {
   "cell_type": "code",
   "execution_count": 36,
   "metadata": {},
   "outputs": [],
   "source": [
    "df_Corpus[df_Corpus['author'] == 'Homer'] = df_"
   ]
  },
  {
   "cell_type": "code",
   "execution_count": 37,
   "metadata": {},
   "outputs": [
    {
     "data": {
      "text/plain": [
       "1    2290088\n",
       "2     229594\n",
       "Name: class, dtype: int64"
      ]
     },
     "execution_count": 37,
     "metadata": {},
     "output_type": "execute_result"
    }
   ],
   "source": [
    "df_Corpus['class'].value_counts()"
   ]
  },
  {
   "cell_type": "code",
   "execution_count": 38,
   "metadata": {},
   "outputs": [],
   "source": [
    "classes = np.asarray(df_Corpus['class'])"
   ]
  },
  {
   "cell_type": "code",
   "execution_count": 40,
   "metadata": {},
   "outputs": [],
   "source": [
    "df_Corpus = df_Corpus.drop(columns = ['index', 'author', 'title', 'sentence', 'verse', 'token_position',\n",
    "       'verse_occurence', 'morphology', 'position_in_sentence', 'word',\n",
    "       'lemmata_1', 'lemmata_2', 'class', 'part_of_speech', 'person', 'number', 'tense',\n",
    "       'mood', 'voice', 'gender', 'case', 'degree'])"
   ]
  },
  {
   "cell_type": "code",
   "execution_count": 53,
   "metadata": {},
   "outputs": [],
   "source": [
    "X, y = shuffle(np.asarray(df_Corpus), classes, random_state=0)"
   ]
  },
  {
   "cell_type": "code",
   "execution_count": 55,
   "metadata": {},
   "outputs": [],
   "source": [
    "X_train, X_test, y_train, y_test = train_test_split(X, y, test_size=0.2, random_state=42)"
   ]
  },
  {
   "cell_type": "code",
   "execution_count": 65,
   "metadata": {},
   "outputs": [],
   "source": [
    "lda = LinearDiscriminantAnalysis(n_components = 5)"
   ]
  },
  {
   "cell_type": "code",
   "execution_count": 66,
   "metadata": {},
   "outputs": [
    {
     "data": {
      "text/plain": [
       "LinearDiscriminantAnalysis(n_components=5, priors=None, shrinkage=None,\n",
       "              solver='svd', store_covariance=False, tol=0.0001)"
      ]
     },
     "execution_count": 66,
     "metadata": {},
     "output_type": "execute_result"
    }
   ],
   "source": [
    "lda.fit(X_train, y_train)"
   ]
  },
  {
   "cell_type": "code",
   "execution_count": 67,
   "metadata": {},
   "outputs": [
    {
     "data": {
      "text/plain": [
       "0.9078734048105219"
      ]
     },
     "execution_count": 67,
     "metadata": {},
     "output_type": "execute_result"
    }
   ],
   "source": [
    "lda.score(X_test, y_test)"
   ]
  },
  {
   "cell_type": "code",
   "execution_count": 70,
   "metadata": {},
   "outputs": [
    {
     "data": {
      "text/plain": [
       "0.9088797713362242"
      ]
     },
     "execution_count": 70,
     "metadata": {},
     "output_type": "execute_result"
    }
   ],
   "source": [
    "1 - len(df_Homer)/len(df_Corpus)"
   ]
  },
  {
   "cell_type": "code",
   "execution_count": null,
   "metadata": {},
   "outputs": [],
   "source": []
  },
  {
   "cell_type": "code",
   "execution_count": null,
   "metadata": {},
   "outputs": [],
   "source": []
  },
  {
   "cell_type": "code",
   "execution_count": null,
   "metadata": {},
   "outputs": [],
   "source": []
  },
  {
   "cell_type": "code",
   "execution_count": null,
   "metadata": {},
   "outputs": [],
   "source": []
  }
 ],
 "metadata": {
  "kernelspec": {
   "display_name": "Python 3",
   "language": "python",
   "name": "python3"
  },
  "language_info": {
   "codemirror_mode": {
    "name": "ipython",
    "version": 3
   },
   "file_extension": ".py",
   "mimetype": "text/x-python",
   "name": "python",
   "nbconvert_exporter": "python",
   "pygments_lexer": "ipython3",
   "version": "3.6.7"
  }
 },
 "nbformat": 4,
 "nbformat_minor": 2
}
